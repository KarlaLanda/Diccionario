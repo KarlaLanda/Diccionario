{
  "metadata": {
    "kernelspec": {
      "name": "python",
      "display_name": "Python (Pyodide)",
      "language": "python"
    },
    "language_info": {
      "codemirror_mode": {
        "name": "python",
        "version": 3
      },
      "file_extension": ".py",
      "mimetype": "text/x-python",
      "name": "python",
      "nbconvert_exporter": "python",
      "pygments_lexer": "ipython3",
      "version": "3.8"
    }
  },
  "nbformat_minor": 4,
  "nbformat": 4,
  "cells": [
    {
      "cell_type": "code",
      "source": "datosalumno={\"Nombre\":\"Juan Sanchez\", \n            \"Matricula\":12345, \"Fechaalta\":\"16/08/2020\"}\nprint(datosalumno)\n\n",
      "metadata": {
        "trusted": true
      },
      "outputs": [
        {
          "name": "stdout",
          "text": "{'Nombre': 'Juan Sanchez', 'Matricula': 12345, 'Fechaalta': '16/08/2020'}\n",
          "output_type": "stream"
        }
      ],
      "execution_count": 6
    },
    {
      "cell_type": "code",
      "source": "datosProducto={\"Codigo\":343435,\"Descripción\":\"Jabon dove\",\"Precio\":29.90}\nprint(datosProducto)",
      "metadata": {
        "trusted": true
      },
      "outputs": [
        {
          "name": "stdout",
          "text": "{'Codigo': 343435, 'Descripción': 'Jabon dove', 'Precio': 29.9}\n",
          "output_type": "stream"
        }
      ],
      "execution_count": 7
    },
    {
      "cell_type": "code",
      "source": "print(datosalumno[\"Matricula\"])",
      "metadata": {
        "trusted": true
      },
      "outputs": [
        {
          "name": "stdout",
          "text": "12345\n",
          "output_type": "stream"
        }
      ],
      "execution_count": 8
    },
    {
      "cell_type": "code",
      "source": "print(datosalumno[\"Nombre\"])",
      "metadata": {
        "trusted": true
      },
      "outputs": [
        {
          "name": "stdout",
          "text": "Juan Sanchez\n",
          "output_type": "stream"
        }
      ],
      "execution_count": 26
    },
    {
      "cell_type": "code",
      "source": "for dato in datosProducto:\n    print(dato)",
      "metadata": {
        "trusted": true
      },
      "outputs": [
        {
          "name": "stdout",
          "text": "Codigo\nDescripción\n",
          "output_type": "stream"
        }
      ],
      "execution_count": 27
    },
    {
      "cell_type": "code",
      "source": "for dato in datosProducto:\n    print(dato,\"-\",datosProducto[dato])",
      "metadata": {
        "trusted": true
      },
      "outputs": [
        {
          "name": "stdout",
          "text": "Codigo - 12377678\nDescripción - Jabon dove\n",
          "output_type": "stream"
        }
      ],
      "execution_count": 28
    },
    {
      "cell_type": "code",
      "source": "print(datosProducto.keys())",
      "metadata": {
        "trusted": true
      },
      "outputs": [
        {
          "name": "stdout",
          "text": "dict_keys(['Codigo', 'Descripción'])\n",
          "output_type": "stream"
        }
      ],
      "execution_count": 29
    },
    {
      "cell_type": "code",
      "source": "print(datosProducto.values())",
      "metadata": {
        "trusted": true
      },
      "outputs": [
        {
          "name": "stdout",
          "text": "dict_values([12377678, 'Jabon dove'])\n",
          "output_type": "stream"
        }
      ],
      "execution_count": 30
    },
    {
      "cell_type": "code",
      "source": "datosProducto.pop(\"Precio\")",
      "metadata": {
        "trusted": true
      },
      "outputs": [
        {
          "ename": "<class 'KeyError'>",
          "evalue": "'Precio'",
          "traceback": [
            "\u001b[0;31m---------------------------------------------------------------------------\u001b[0m",
            "\u001b[0;31mKeyError\u001b[0m                                  Traceback (most recent call last)",
            "Cell \u001b[0;32mIn[38], line 1\u001b[0m\n\u001b[0;32m----> 1\u001b[0m \u001b[43mdatosProducto\u001b[49m\u001b[38;5;241;43m.\u001b[39;49m\u001b[43mpop\u001b[49m\u001b[43m(\u001b[49m\u001b[38;5;124;43m\"\u001b[39;49m\u001b[38;5;124;43mPrecio\u001b[39;49m\u001b[38;5;124;43m\"\u001b[39;49m\u001b[43m)\u001b[49m\n",
            "\u001b[0;31mKeyError\u001b[0m: 'Precio'"
          ],
          "output_type": "error"
        }
      ],
      "execution_count": 38
    },
    {
      "cell_type": "code",
      "source": "print(datosProducto)",
      "metadata": {
        "trusted": true
      },
      "outputs": [
        {
          "name": "stdout",
          "text": "{'Codigo': 12377678, 'Descripción': 'Jabon dove'}\n",
          "output_type": "stream"
        }
      ],
      "execution_count": 32
    },
    {
      "cell_type": "code",
      "source": "",
      "metadata": {
        "trusted": true
      },
      "outputs": [],
      "execution_count": null
    },
    {
      "cell_type": "code",
      "source": "datosalumno.update(datosProducto)",
      "metadata": {
        "trusted": true
      },
      "outputs": [],
      "execution_count": 33
    },
    {
      "cell_type": "code",
      "source": "print(datosalumno)",
      "metadata": {
        "trusted": true
      },
      "outputs": [
        {
          "name": "stdout",
          "text": "{'Nombre': 'Juan Sanchez', 'Matricula': 12345, 'Fechaalta': '16/08/2020', 'Codigo': 12377678, 'Descripción': 'Jabon dove'}\n",
          "output_type": "stream"
        }
      ],
      "execution_count": 34
    },
    {
      "cell_type": "code",
      "source": "datosalumno.popitem()\ndatosalumno",
      "metadata": {
        "trusted": true
      },
      "outputs": [
        {
          "execution_count": 35,
          "output_type": "execute_result",
          "data": {
            "text/plain": "{'Nombre': 'Juan Sanchez',\n 'Matricula': 12345,\n 'Fechaalta': '16/08/2020',\n 'Codigo': 12377678}"
          },
          "metadata": {}
        }
      ],
      "execution_count": 35
    },
    {
      "cell_type": "code",
      "source": "datosProducto[\"Codigo\"]=12377678\ndatosProducto",
      "metadata": {
        "trusted": true
      },
      "outputs": [
        {
          "execution_count": 36,
          "output_type": "execute_result",
          "data": {
            "text/plain": "{'Codigo': 12377678, 'Descripción': 'Jabon dove'}"
          },
          "metadata": {}
        }
      ],
      "execution_count": 36
    },
    {
      "cell_type": "code",
      "source": "diccionarioinglesespañol={\"House\":\"Casa\",\"School\":\"Escuela\",\"Water\":\"Agua\",\"Sky\":\"Cielo\"}\ndiccionarioinglesespañol",
      "metadata": {
        "trusted": true
      },
      "outputs": [
        {
          "execution_count": 37,
          "output_type": "execute_result",
          "data": {
            "text/plain": "{'House': 'Casa', 'School': 'Escuela', 'Water': 'Agua', 'Sky': 'Cielo'}"
          },
          "metadata": {}
        }
      ],
      "execution_count": 37
    },
    {
      "cell_type": "code",
      "source": "",
      "metadata": {
        "trusted": true
      },
      "outputs": [],
      "execution_count": null
    }
  ]
}